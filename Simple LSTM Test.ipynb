{
 "cells": [
  {
   "cell_type": "code",
   "execution_count": 12,
   "metadata": {},
   "outputs": [],
   "source": [
    "import numpy as np\n",
    "from keras.models import Model\n",
    "from keras.layers import LSTM, Input"
   ]
  },
  {
   "cell_type": "code",
   "execution_count": 20,
   "metadata": {
    "collapsed": true
   },
   "outputs": [],
   "source": [
    "L = 1000\n",
    "D = 10\n",
    "H = 100\n",
    "inp  = Input(shape=(L, D))\n",
    "out1 = LSTM(H, return_sequences=True)(inp)"
   ]
  },
  {
   "cell_type": "code",
   "execution_count": 21,
   "metadata": {},
   "outputs": [],
   "source": [
    "m = Model(inputs=[inp], outputs=[out1])\n",
    "in_seq = np.random.randn(1, L, D) \n",
    "seq = m.predict(in_seq)\n",
    "np.savetxt(\"model_weights/input.txt\",  in_seq[0])\n",
    "np.savetxt(\"model_weights/output.txt\", seq[0])"
   ]
  },
  {
   "cell_type": "code",
   "execution_count": 22,
   "metadata": {
    "collapsed": true
   },
   "outputs": [],
   "source": [
    "for layer in m.layers:\n",
    "    config=layer.get_config()\n",
    "    weights=layer.get_weights()\n",
    "    name = config[\"name\"]\n",
    "    if('lstm' in name):\n",
    "            np.savetxt(\"model_weights/lstm_weights.txt\", weights[0])\n",
    "            np.savetxt(\"model_weights/lstm_recurrent.txt\", weights[1])\n",
    "            np.savetxt(\"model_weights/lstm_bias.txt\", weights[2])\n",
    "            input_size  = weights[0].shape[0]        \n",
    "            hidden_size = int(weights[0].shape[1] / 4)"
   ]
  },
  {
   "cell_type": "code",
   "execution_count": null,
   "metadata": {
    "collapsed": true
   },
   "outputs": [],
   "source": []
  }
 ],
 "metadata": {
  "kernelspec": {
   "display_name": "Python 3",
   "language": "python",
   "name": "python3"
  },
  "language_info": {
   "codemirror_mode": {
    "name": "ipython",
    "version": 3
   },
   "file_extension": ".py",
   "mimetype": "text/x-python",
   "name": "python",
   "nbconvert_exporter": "python",
   "pygments_lexer": "ipython3",
   "version": "3.6.1"
  }
 },
 "nbformat": 4,
 "nbformat_minor": 2
}
